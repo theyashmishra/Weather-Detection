{
  "nbformat": 4,
  "nbformat_minor": 0,
  "metadata": {
    "colab": {
      "name": "Weather_Detection_using_cnn.ipynb",
      "provenance": [],
      "collapsed_sections": [],
      "include_colab_link": true
    },
    "kernelspec": {
      "name": "python3",
      "display_name": "Python 3"
    },
    "language_info": {
      "name": "python"
    },
    "accelerator": "GPU"
  },
  "cells": [
    {
      "cell_type": "markdown",
      "metadata": {
        "id": "view-in-github",
        "colab_type": "text"
      },
      "source": [
        "<a href=\"https://colab.research.google.com/github/theyashmishra/Weather-Detection/blob/main/Weather_Detection_using_cnn.ipynb\" target=\"_parent\"><img src=\"https://colab.research.google.com/assets/colab-badge.svg\" alt=\"Open In Colab\"/></a>"
      ]
    },
    {
      "cell_type": "code",
      "metadata": {
        "id": "9tQc5bqajqTh"
      },
      "source": [
        "import os\n",
        "import warnings\n",
        "import random\n",
        "from shutil import copyfile\n",
        "#data visualization libraries\n",
        "import matplotlib.pyplot as plt\n",
        "import seaborn as sns\n",
        "import pathlib\n",
        "#deep learning libraries\n",
        "from keras.optimizers import Adam\n",
        "from keras.layers import Conv2D, Flatten, Dense, MaxPooling2D, Dropout\n",
        "from keras.models import Sequential\n",
        "from keras.preprocessing.image import ImageDataGenerator"
      ],
      "execution_count": null,
      "outputs": []
    },
    {
      "cell_type": "code",
      "metadata": {
        "id": "_DDAfDWszmWI"
      },
      "source": [
        "import os\n",
        "os.environ['KAGGLE_USERNAME']=\"theyashmishra\"\n",
        "os.environ['KAGGLE_KEY']=\"45d3832331831cbbd093dbd45272c90a\"\n"
      ],
      "execution_count": null,
      "outputs": []
    },
    {
      "cell_type": "code",
      "metadata": {
        "colab": {
          "base_uri": "https://localhost:8080/"
        },
        "id": "ZoMb0gB9Galc",
        "outputId": "09898f06-0846-41c0-8b14-f3ffcc3d3c47"
      },
      "source": [
        "!kaggle datasets download -d vijaygiitk/multiclass-weather-dataset"
      ],
      "execution_count": null,
      "outputs": [
        {
          "output_type": "stream",
          "text": [
            "Downloading multiclass-weather-dataset.zip to /content\n",
            " 97% 131M/134M [00:03<00:00, 42.3MB/s]\n",
            "100% 134M/134M [00:03<00:00, 39.1MB/s]\n"
          ],
          "name": "stdout"
        }
      ]
    },
    {
      "cell_type": "code",
      "metadata": {
        "colab": {
          "base_uri": "https://localhost:8080/"
        },
        "id": "sP3jBg9AGn00",
        "outputId": "047ca28e-a3c9-4196-c9a5-d450af14135f"
      },
      "source": [
        "from zipfile import ZipFile\n",
        "filename=\"/content/multiclass-weather-dataset.zip\"\n",
        "with ZipFile(filename,'r') as zip:\n",
        "  zip.extractall()\n",
        "  print(\"done\")"
      ],
      "execution_count": null,
      "outputs": [
        {
          "output_type": "stream",
          "text": [
            "done\n"
          ],
          "name": "stdout"
        }
      ]
    },
    {
      "cell_type": "code",
      "metadata": {
        "colab": {
          "base_uri": "https://localhost:8080/"
        },
        "id": "KPNcwKC4LLkx",
        "outputId": "1911ab64-99bf-4c92-e708-ad8a83e18bad"
      },
      "source": [
        "import warnings\n",
        "warnings.filterwarnings('ignore')\n",
        "data_dir_list=os.listdir('/content/dataset')\n",
        "print(data_dir_list)\n",
        "path, dirs,files=next(os.walk(\"/content/dataset\"))\n",
        "file_count=len(files)"
      ],
      "execution_count": null,
      "outputs": [
        {
          "output_type": "stream",
          "text": [
            "['test.csv', 'sunrise', 'foggy', 'cloudy', 'alien_test', 'shine', 'rainy']\n"
          ],
          "name": "stdout"
        }
      ]
    },
    {
      "cell_type": "code",
      "metadata": {
        "id": "i8QNshebMFzn"
      },
      "source": [
        "original_dataset_dir='/content/dataset'\n",
        "base_dir='/content/weather-data'\n",
        "os.mkdir(base_dir)"
      ],
      "execution_count": null,
      "outputs": []
    },
    {
      "cell_type": "code",
      "metadata": {
        "id": "DxeUhbwfTw4d"
      },
      "source": [
        "train_dir = os.path.join(base_dir, 'train')\n",
        "os.mkdir(train_dir)\n",
        "\n",
        "validation_dir = os.path.join(base_dir, 'validation')\n",
        "os.mkdir(validation_dir)\n",
        "\n",
        "#Under train folder create five folders \n",
        "# (cloud, folly, rainy, shine, sunrise)\n",
        "\n",
        "train_cloud_dir = os.path.join(train_dir, 'cloudy')\n",
        "os.mkdir(train_cloud_dir)\n",
        "\n",
        "train_foggy_dir = os.path.join(train_dir, 'foggy')\n",
        "os.mkdir(train_foggy_dir)\n",
        "\n",
        "train_rainy_dir = os.path.join(train_dir, 'rainy')\n",
        "os.mkdir(train_rainy_dir)\n",
        "\n",
        "train_shine_dir = os.path.join(train_dir, 'shine')\n",
        "os.mkdir(train_shine_dir)\n",
        "\n",
        "train_sunrise_dir = os.path.join(train_dir, 'sunrise')\n",
        "os.mkdir(train_sunrise_dir)\n",
        "\n",
        "#Under validation folder create five folders \n",
        "# (cloud, folly, rainy, shine, sunrise)\n",
        "\n",
        "validation_cloud_dir = os.path.join(validation_dir, 'cloudy')\n",
        "os.mkdir(validation_cloud_dir)\n",
        "\n",
        "validation_foggy_dir = os.path.join(validation_dir, 'foggy')\n",
        "os.mkdir(validation_foggy_dir)\n",
        "\n",
        "validation_rainy_dir = os.path.join(validation_dir, 'rainy')\n",
        "os.mkdir(validation_rainy_dir)\n",
        "\n",
        "validation_shine_dir = os.path.join(validation_dir, 'shine')\n",
        "os.mkdir(validation_shine_dir)\n",
        "\n",
        "validation_sunrise_dir = os.path.join(validation_dir, 'sunrise')\n",
        "os.mkdir(validation_sunrise_dir)"
      ],
      "execution_count": null,
      "outputs": []
    },
    {
      "cell_type": "code",
      "metadata": {
        "id": "LU1FB8v5a1fM"
      },
      "source": [
        "def split_data(SOURCE, TRAINING, VALIDATION, SPLIT_SIZE):\n",
        "    files = []\n",
        "    for filename in os.listdir(SOURCE):\n",
        "        file = SOURCE + filename\n",
        "        if os.path.getsize(file) > 0:\n",
        "            files.append(filename)\n",
        "        else:\n",
        "            print(filename + \" is zero length, so ignoring.\")\n",
        "\n",
        "    training_length = int(len(files) * SPLIT_SIZE)\n",
        "    valid_length = int(len(files) - training_length)\n",
        "    shuffled_set = random.sample(files, len(files))\n",
        "    training_set = shuffled_set[0:training_length]\n",
        "    valid_set = shuffled_set[training_length:]\n",
        "\n",
        "    for filename in training_set:\n",
        "        this_file = SOURCE + filename\n",
        "        destination = TRAINING + filename\n",
        "        copyfile(this_file, destination)\n",
        "\n",
        "    for filename in valid_set:\n",
        "        this_file = SOURCE + filename\n",
        "        destination = VALIDATION + filename\n",
        "        copyfile(this_file, destination)"
      ],
      "execution_count": null,
      "outputs": []
    },
    {
      "cell_type": "code",
      "metadata": {
        "id": "eFpsEcqj0tot"
      },
      "source": [
        "CLOUDY_SOURCE_DIR = '/content/dataset/cloudy/'\n",
        "TRAINING_CLOUDY_DIR = '/content/weather-data/train/cloudy/'\n",
        "VALID_CLOUDY_DIR = '/content/weather-data/validation/cloudy/'\n",
        "\n",
        "FOGGY_SOURCE_DIR = '/content/dataset/foggy/'\n",
        "TRAINING_FOGGY_DIR = '/content/weather-data/train/foggy/'\n",
        "VALID_FOGGY_DIR = '/content/weather-data/validation/foggy/'\n",
        "\n",
        "RAINY_SOURCE_DIR = '/content/dataset/rainy/'\n",
        "TRAINING_RAINY_DIR = '/content/weather-data/train/rainy/'\n",
        "VALID_RAINY_DIR = '/content/weather-data/validation/rainy/'\n",
        "\n",
        "SHINE_SOURCE_DIR = '/content/dataset/shine/'\n",
        "TRAINING_SHINE_DIR = '/content/weather-data/train/shine/'\n",
        "VALID_SHINE_DIR = '/content/weather-data/validation/shine/'\n",
        "\n",
        "SUNRISE_SOURCE_DIR = '/content/dataset/sunrise/'\n",
        "TRAINING_SUNRISE_DIR = '/content/weather-data/train/sunrise/'\n",
        "VALID_SUNRISE_DIR = '/content/weather-data/validation/sunrise/'"
      ],
      "execution_count": null,
      "outputs": []
    },
    {
      "cell_type": "code",
      "metadata": {
        "id": "3iuRx7Xf2Y-o"
      },
      "source": [
        "split_size=0.85\n",
        "split_data(CLOUDY_SOURCE_DIR,TRAINING_CLOUDY_DIR,VALID_CLOUDY_DIR,split_size)\n",
        "\n",
        "split_data(FOGGY_SOURCE_DIR,\n",
        "TRAINING_FOGGY_DIR,\n",
        "VALID_FOGGY_DIR,split_size)\n",
        "\n",
        "split_data(RAINY_SOURCE_DIR,\n",
        "TRAINING_RAINY_DIR,\n",
        "VALID_RAINY_DIR,split_size)\n",
        "\n",
        "split_data(SHINE_SOURCE_DIR,\n",
        "TRAINING_SHINE_DIR,\n",
        "VALID_SHINE_DIR,split_size)\n",
        "\n",
        "split_data(SUNRISE_SOURCE_DIR,\n",
        "TRAINING_SUNRISE_DIR,\n",
        "VALID_SUNRISE_DIR,split_size)"
      ],
      "execution_count": null,
      "outputs": []
    },
    {
      "cell_type": "code",
      "metadata": {
        "id": "OzEbiEdKUwXq",
        "colab": {
          "base_uri": "https://localhost:8080/",
          "height": 390
        },
        "outputId": "d51ef081-9fac-483e-8311-aa97b6a49d6b"
      },
      "source": [
        "image_folder=['cloudy', 'foggy', 'rainy', 'shine','sunrise']\n",
        "nimgs={}\n",
        "for i in image_folder:\n",
        "   nimages=len(os.listdir('/content/weather-data/train/'+i+'/'))\n",
        "   nimgs[i]=nimages\n",
        "plt.figure(figsize=(9,6))\n",
        "plt.bar(range(len(nimgs)),list(nimgs.values()),align='center')\n",
        "plt.xticks(range(len(nimgs)),list(nimgs.values()))\n",
        "plt.title('Distribution of different classes in Validation Dataset')\n",
        "plt.show()\n"
      ],
      "execution_count": null,
      "outputs": [
        {
          "output_type": "display_data",
          "data": {
            "image/png": "[encoded data removed]",
            "text/plain": [
              "<Figure size 648x432 with 1 Axes>"
            ]
          },
          "metadata": {
            "tags": [],
            "needs_background": "light"
          }
        }
      ]
    },
    {
      "cell_type": "code",
      "metadata": {
        "id": "HuyWUIUU3Ca0",
        "colab": {
          "base_uri": "https://localhost:8080/",
          "height": 390
        },
        "outputId": "2eb4bcba-af56-4754-d320-2bec3619a404"
      },
      "source": [
        "image_folder=['cloudy', 'foggy', 'rainy', 'shine','sunrise']\n",
        "nimgs={}\n",
        "for i in image_folder:\n",
        "   nimages=len(os.listdir('/content/weather-data/validation/'+i+'/'))\n",
        "   nimgs[i]=nimages\n",
        "plt.figure(figsize=(9,6))\n",
        "plt.bar(range(len(nimgs)),list(nimgs.values()),align='center')\n",
        "plt.xticks(range(len(nimgs)),list(nimgs.values()))\n",
        "plt.title('Distribution of different classes in Validation Dataset')\n",
        "plt.show()\n"
      ],
      "execution_count": null,
      "outputs": [
        {
          "output_type": "display_data",
          "data": {
            "image/png": "[encoded data removed]",
            "text/plain": [
              "<Figure size 648x432 with 1 Axes>"
            ]
          },
          "metadata": {
            "tags": [],
            "needs_background": "light"
          }
        }
      ]
    },
    {
      "cell_type": "code",
      "metadata": {
        "id": "Ao4lCAT2IeI8",
        "colab": {
          "base_uri": "https://localhost:8080/"
        },
        "outputId": "16cf75bf-33c6-40ae-bfa3-feab30b9780d"
      },
      "source": [
        "for i in ['cloudy', 'foggy', 'rainy', 'shine','sunrise']:\n",
        "  print('valid {} images are: '.format(i)+str(len(os.listdir('/content/weather-data/validation/'+i+'/'))))"
      ],
      "execution_count": null,
      "outputs": [
        {
          "output_type": "stream",
          "text": [
            "valid cloudy images are: 45\n",
            "valid foggy images are: 45\n",
            "valid rainy images are: 45\n",
            "valid shine images are: 38\n",
            "valid sunrise images are: 53\n"
          ],
          "name": "stdout"
        }
      ]
    },
    {
      "cell_type": "code",
      "metadata": {
        "id": "1QIRe116KY3U",
        "colab": {
          "base_uri": "https://localhost:8080/"
        },
        "outputId": "97764fed-cc85-40c3-8622-6cff322c7981"
      },
      "source": [
        "img_width=256; img_height=256\n",
        "batch_size=16\n",
        "TRAINING_DIR='/content/weather-data/train/'\n",
        "train_datagen = ImageDataGenerator(\n",
        "        rescale=1./255,\n",
        "        rotation_range=30,\n",
        "        zoom_range=0.2,\n",
        "        horizontal_flip=True)\n",
        "train_generator = train_datagen.flow_from_directory(\n",
        "      TRAINING_DIR,\n",
        "        target_size=(256, 256),\n",
        "        batch_size=16,\n",
        "        class_mode='categorical',\n",
        "        )"
      ],
      "execution_count": null,
      "outputs": [
        {
          "output_type": "stream",
          "text": [
            "Found 1274 images belonging to 5 classes.\n"
          ],
          "name": "stdout"
        }
      ]
    },
    {
      "cell_type": "code",
      "metadata": {
        "id": "0JxUvj12WKsf",
        "colab": {
          "base_uri": "https://localhost:8080/"
        },
        "outputId": "d0a5c030-00b4-4c99-caa8-904a2230f125"
      },
      "source": [
        "VALIDATION_DIR='/content/weather-data/validation'\n",
        "validation_datagen= ImageDataGenerator(rescale=1./255)\n",
        "validation_generator=validation_datagen.flow_from_directory(\n",
        "       VALIDATION_DIR,\n",
        "        target_size=(256, 256),\n",
        "        batch_size=16,\n",
        "        class_mode='categorical')"
      ],
      "execution_count": null,
      "outputs": [
        {
          "output_type": "stream",
          "text": [
            "Found 226 images belonging to 5 classes.\n"
          ],
          "name": "stdout"
        }
      ]
    },
    {
      "cell_type": "code",
      "metadata": {
        "id": "lbOPdyVxXR-F"
      },
      "source": [
        "from keras.callbacks import EarlyStopping, ModelCheckpoint\n",
        "callbacks=EarlyStopping(monitor='val_loss', patience=5, verbose=1,mode='auto')\n",
        "best_model_file='/content/CNN_aug_best_weight.h5'\n",
        "best_model=ModelCheckpoint(best_model_file,monitor='val_acc', verbose=1,save_best_only='true')"
      ],
      "execution_count": null,
      "outputs": []
    },
    {
      "cell_type": "code",
      "metadata": {
        "id": "JlS7GNl6XZe0"
      },
      "source": [
        "model=Sequential([\n",
        "                  Conv2D(16, (3,3),input_shape=(256,256,3), activation='relu'),\n",
        "                   Conv2D(32, (3,3), activation='relu'),\n",
        "                   MaxPooling2D(2,2),\n",
        "                    Conv2D(64, (3,3), activation='relu'),\n",
        "                     Conv2D(64, (3,3), activation='relu'),\n",
        "                          MaxPooling2D(2,2) ,\n",
        "                     Conv2D(128, (3,3), activation='relu'),\n",
        "                     Conv2D(128, (3,3), activation='relu'),\n",
        "                          MaxPooling2D(2,2)  ,\n",
        "                           Conv2D(256, (3,3), activation='relu'),\n",
        "                     Conv2D(256, (3,3), activation='relu'),\n",
        "                          MaxPooling2D(2,2) ,\n",
        "                          Flatten(),\n",
        "                          Dense(256,activation='relu')  ,\n",
        "                           Dense(256,activation='relu')  ,   \n",
        "                         Dense(5,activation='softmax')  \n",
        "])"
      ],
      "execution_count": null,
      "outputs": []
    },
    {
      "cell_type": "code",
      "metadata": {
        "id": "SwzgecXtYrMt",
        "colab": {
          "base_uri": "https://localhost:8080/"
        },
        "outputId": "579349df-103b-428c-d127-ed98f8965858"
      },
      "source": [
        "model.summary()"
      ],
      "execution_count": null,
      "outputs": [
        {
          "output_type": "stream",
          "text": [
            "Model: \"sequential\"\n",
            "_________________________________________________________________\n",
            "Layer (type)                 Output Shape              Param #   \n",
            "=================================================================\n",
            "conv2d (Conv2D)              (None, 254, 254, 16)      448       \n",
            "_________________________________________________________________\n",
            "conv2d_1 (Conv2D)            (None, 252, 252, 32)      4640      \n",
            "_________________________________________________________________\n",
            "max_pooling2d (MaxPooling2D) (None, 126, 126, 32)      0         \n",
            "_________________________________________________________________\n",
            "conv2d_2 (Conv2D)            (None, 124, 124, 64)      18496     \n",
            "_________________________________________________________________\n",
            "conv2d_3 (Conv2D)            (None, 122, 122, 64)      36928     \n",
            "_________________________________________________________________\n",
            "max_pooling2d_1 (MaxPooling2 (None, 61, 61, 64)        0         \n",
            "_________________________________________________________________\n",
            "conv2d_4 (Conv2D)            (None, 59, 59, 128)       73856     \n",
            "_________________________________________________________________\n",
            "conv2d_5 (Conv2D)            (None, 57, 57, 128)       147584    \n",
            "_________________________________________________________________\n",
            "max_pooling2d_2 (MaxPooling2 (None, 28, 28, 128)       0         \n",
            "_________________________________________________________________\n",
            "conv2d_6 (Conv2D)            (None, 26, 26, 256)       295168    \n",
            "_________________________________________________________________\n",
            "conv2d_7 (Conv2D)            (None, 24, 24, 256)       590080    \n",
            "_________________________________________________________________\n",
            "max_pooling2d_3 (MaxPooling2 (None, 12, 12, 256)       0         \n",
            "_________________________________________________________________\n",
            "flatten (Flatten)            (None, 36864)             0         \n",
            "_________________________________________________________________\n",
            "dense (Dense)                (None, 256)               9437440   \n",
            "_________________________________________________________________\n",
            "dense_1 (Dense)              (None, 256)               65792     \n",
            "_________________________________________________________________\n",
            "dense_2 (Dense)              (None, 5)                 1285      \n",
            "=================================================================\n",
            "Total params: 10,671,717\n",
            "Trainable params: 10,671,717\n",
            "Non-trainable params: 0\n",
            "_________________________________________________________________\n"
          ],
          "name": "stdout"
        }
      ]
    },
    {
      "cell_type": "code",
      "metadata": {
        "id": "TVRePL5dZyWR"
      },
      "source": [
        "model.compile(optimizer='Adam',loss='categorical_crossentropy',metrics=['accuracy'])"
      ],
      "execution_count": null,
      "outputs": []
    },
    {
      "cell_type": "code",
      "metadata": {
        "id": "Yx6Ag_mKaGcB",
        "colab": {
          "base_uri": "https://localhost:8080/"
        },
        "outputId": "4d1ecbec-0e7e-4cb5-f85a-121142f7a7e0"
      },
      "source": [
        "history=model.fit_generator(\n",
        "        train_generator,\n",
        "        epochs=40,\n",
        "        validation_data=validation_generator,\n",
        "        callbacks=[best_model])"
      ],
      "execution_count": null,
      "outputs": [
        {
          "output_type": "stream",
          "text": [
            "Epoch 1/40\n",
            "80/80 [==============================] - 84s 461ms/step - loss: 1.6047 - accuracy: 0.2445 - val_loss: 1.2853 - val_accuracy: 0.4469\n",
            "WARNING:tensorflow:Can save best model only with val_acc available, skipping.\n",
            "Epoch 2/40\n",
            "80/80 [==============================] - 34s 424ms/step - loss: 1.3976 - accuracy: 0.4217 - val_loss: 1.0825 - val_accuracy: 0.5796\n",
            "WARNING:tensorflow:Can save best model only with val_acc available, skipping.\n",
            "Epoch 3/40\n",
            "80/80 [==============================] - 34s 423ms/step - loss: 1.1763 - accuracy: 0.5200 - val_loss: 1.0625 - val_accuracy: 0.5044\n",
            "WARNING:tensorflow:Can save best model only with val_acc available, skipping.\n",
            "Epoch 4/40\n",
            "80/80 [==============================] - 34s 426ms/step - loss: 1.1008 - accuracy: 0.5570 - val_loss: 1.0642 - val_accuracy: 0.5088\n",
            "WARNING:tensorflow:Can save best model only with val_acc available, skipping.\n",
            "Epoch 5/40\n",
            "80/80 [==============================] - 34s 427ms/step - loss: 1.0454 - accuracy: 0.5454 - val_loss: 0.9977 - val_accuracy: 0.5619\n",
            "WARNING:tensorflow:Can save best model only with val_acc available, skipping.\n",
            "Epoch 6/40\n",
            "80/80 [==============================] - 34s 427ms/step - loss: 0.9737 - accuracy: 0.6211 - val_loss: 0.8966 - val_accuracy: 0.6062\n",
            "WARNING:tensorflow:Can save best model only with val_acc available, skipping.\n",
            "Epoch 7/40\n",
            "80/80 [==============================] - 34s 427ms/step - loss: 0.8761 - accuracy: 0.6468 - val_loss: 0.8695 - val_accuracy: 0.6903\n",
            "WARNING:tensorflow:Can save best model only with val_acc available, skipping.\n",
            "Epoch 8/40\n",
            "80/80 [==============================] - 34s 427ms/step - loss: 0.9078 - accuracy: 0.6140 - val_loss: 0.9220 - val_accuracy: 0.6150\n",
            "WARNING:tensorflow:Can save best model only with val_acc available, skipping.\n",
            "Epoch 9/40\n",
            "80/80 [==============================] - 34s 426ms/step - loss: 0.8731 - accuracy: 0.6436 - val_loss: 0.9128 - val_accuracy: 0.6062\n",
            "WARNING:tensorflow:Can save best model only with val_acc available, skipping.\n",
            "Epoch 10/40\n",
            "80/80 [==============================] - 34s 421ms/step - loss: 0.8773 - accuracy: 0.6413 - val_loss: 0.7486 - val_accuracy: 0.6947\n",
            "WARNING:tensorflow:Can save best model only with val_acc available, skipping.\n",
            "Epoch 11/40\n",
            "80/80 [==============================] - 34s 423ms/step - loss: 0.7676 - accuracy: 0.6777 - val_loss: 0.7876 - val_accuracy: 0.6593\n",
            "WARNING:tensorflow:Can save best model only with val_acc available, skipping.\n",
            "Epoch 12/40\n",
            "80/80 [==============================] - 34s 423ms/step - loss: 0.7703 - accuracy: 0.7228 - val_loss: 0.7624 - val_accuracy: 0.6947\n",
            "WARNING:tensorflow:Can save best model only with val_acc available, skipping.\n",
            "Epoch 13/40\n",
            "80/80 [==============================] - 34s 424ms/step - loss: 0.7169 - accuracy: 0.6832 - val_loss: 0.6432 - val_accuracy: 0.7212\n",
            "WARNING:tensorflow:Can save best model only with val_acc available, skipping.\n",
            "Epoch 14/40\n",
            "80/80 [==============================] - 33s 418ms/step - loss: 0.7056 - accuracy: 0.6957 - val_loss: 0.7247 - val_accuracy: 0.6858\n",
            "WARNING:tensorflow:Can save best model only with val_acc available, skipping.\n",
            "Epoch 15/40\n",
            "80/80 [==============================] - 34s 425ms/step - loss: 0.6482 - accuracy: 0.7563 - val_loss: 0.7485 - val_accuracy: 0.6770\n",
            "WARNING:tensorflow:Can save best model only with val_acc available, skipping.\n",
            "Epoch 16/40\n",
            "80/80 [==============================] - 34s 428ms/step - loss: 0.6827 - accuracy: 0.7571 - val_loss: 0.7867 - val_accuracy: 0.6814\n",
            "WARNING:tensorflow:Can save best model only with val_acc available, skipping.\n",
            "Epoch 17/40\n",
            "80/80 [==============================] - 34s 427ms/step - loss: 0.6816 - accuracy: 0.7489 - val_loss: 0.6677 - val_accuracy: 0.7035\n",
            "WARNING:tensorflow:Can save best model only with val_acc available, skipping.\n",
            "Epoch 18/40\n",
            "80/80 [==============================] - 34s 431ms/step - loss: 0.5954 - accuracy: 0.7479 - val_loss: 0.6947 - val_accuracy: 0.7345\n",
            "WARNING:tensorflow:Can save best model only with val_acc available, skipping.\n",
            "Epoch 19/40\n",
            "80/80 [==============================] - 34s 428ms/step - loss: 0.6334 - accuracy: 0.7578 - val_loss: 0.6610 - val_accuracy: 0.7345\n",
            "WARNING:tensorflow:Can save best model only with val_acc available, skipping.\n",
            "Epoch 20/40\n",
            "80/80 [==============================] - 34s 427ms/step - loss: 0.5353 - accuracy: 0.7992 - val_loss: 0.6339 - val_accuracy: 0.7876\n",
            "WARNING:tensorflow:Can save best model only with val_acc available, skipping.\n",
            "Epoch 21/40\n",
            "80/80 [==============================] - 34s 426ms/step - loss: 0.5910 - accuracy: 0.7833 - val_loss: 0.6383 - val_accuracy: 0.7566\n",
            "WARNING:tensorflow:Can save best model only with val_acc available, skipping.\n",
            "Epoch 22/40\n",
            "80/80 [==============================] - 34s 427ms/step - loss: 0.5840 - accuracy: 0.7786 - val_loss: 0.7918 - val_accuracy: 0.6991\n",
            "WARNING:tensorflow:Can save best model only with val_acc available, skipping.\n",
            "Epoch 23/40\n",
            "80/80 [==============================] - 34s 421ms/step - loss: 0.5477 - accuracy: 0.7953 - val_loss: 0.7670 - val_accuracy: 0.7389\n",
            "WARNING:tensorflow:Can save best model only with val_acc available, skipping.\n",
            "Epoch 24/40\n",
            "80/80 [==============================] - 33s 411ms/step - loss: 0.5450 - accuracy: 0.7805 - val_loss: 0.6321 - val_accuracy: 0.7522\n",
            "WARNING:tensorflow:Can save best model only with val_acc available, skipping.\n",
            "Epoch 25/40\n",
            "80/80 [==============================] - 33s 415ms/step - loss: 0.5433 - accuracy: 0.8018 - val_loss: 0.6220 - val_accuracy: 0.7611\n",
            "WARNING:tensorflow:Can save best model only with val_acc available, skipping.\n",
            "Epoch 26/40\n",
            "80/80 [==============================] - 33s 415ms/step - loss: 0.5215 - accuracy: 0.7776 - val_loss: 0.6223 - val_accuracy: 0.7345\n",
            "WARNING:tensorflow:Can save best model only with val_acc available, skipping.\n",
            "Epoch 27/40\n",
            "80/80 [==============================] - 33s 411ms/step - loss: 0.4974 - accuracy: 0.8148 - val_loss: 0.5686 - val_accuracy: 0.7743\n",
            "WARNING:tensorflow:Can save best model only with val_acc available, skipping.\n",
            "Epoch 28/40\n",
            "80/80 [==============================] - 33s 409ms/step - loss: 0.5208 - accuracy: 0.7971 - val_loss: 0.5733 - val_accuracy: 0.7788\n",
            "WARNING:tensorflow:Can save best model only with val_acc available, skipping.\n",
            "Epoch 29/40\n",
            "80/80 [==============================] - 33s 406ms/step - loss: 0.4629 - accuracy: 0.8215 - val_loss: 0.7068 - val_accuracy: 0.7301\n",
            "WARNING:tensorflow:Can save best model only with val_acc available, skipping.\n",
            "Epoch 30/40\n",
            "80/80 [==============================] - 33s 406ms/step - loss: 0.5516 - accuracy: 0.8200 - val_loss: 0.5674 - val_accuracy: 0.8097\n",
            "WARNING:tensorflow:Can save best model only with val_acc available, skipping.\n",
            "Epoch 31/40\n",
            "80/80 [==============================] - 33s 406ms/step - loss: 0.4455 - accuracy: 0.8306 - val_loss: 0.6809 - val_accuracy: 0.6947\n",
            "WARNING:tensorflow:Can save best model only with val_acc available, skipping.\n",
            "Epoch 32/40\n",
            "80/80 [==============================] - 32s 405ms/step - loss: 0.4504 - accuracy: 0.8269 - val_loss: 0.5909 - val_accuracy: 0.7434\n",
            "WARNING:tensorflow:Can save best model only with val_acc available, skipping.\n",
            "Epoch 33/40\n",
            "80/80 [==============================] - 32s 404ms/step - loss: 0.4316 - accuracy: 0.8405 - val_loss: 0.4785 - val_accuracy: 0.8319\n",
            "WARNING:tensorflow:Can save best model only with val_acc available, skipping.\n",
            "Epoch 34/40\n",
            "80/80 [==============================] - 33s 409ms/step - loss: 0.4198 - accuracy: 0.8485 - val_loss: 0.5215 - val_accuracy: 0.8186\n",
            "WARNING:tensorflow:Can save best model only with val_acc available, skipping.\n",
            "Epoch 35/40\n",
            "80/80 [==============================] - 32s 401ms/step - loss: 0.3495 - accuracy: 0.8694 - val_loss: 0.5069 - val_accuracy: 0.8142\n",
            "WARNING:tensorflow:Can save best model only with val_acc available, skipping.\n",
            "Epoch 36/40\n",
            "80/80 [==============================] - 32s 401ms/step - loss: 0.3952 - accuracy: 0.8515 - val_loss: 0.4636 - val_accuracy: 0.8097\n",
            "WARNING:tensorflow:Can save best model only with val_acc available, skipping.\n",
            "Epoch 37/40\n",
            "80/80 [==============================] - 32s 401ms/step - loss: 0.3092 - accuracy: 0.8850 - val_loss: 0.5079 - val_accuracy: 0.8053\n",
            "WARNING:tensorflow:Can save best model only with val_acc available, skipping.\n",
            "Epoch 38/40\n",
            "80/80 [==============================] - 32s 401ms/step - loss: 0.4461 - accuracy: 0.8263 - val_loss: 0.6667 - val_accuracy: 0.7345\n",
            "WARNING:tensorflow:Can save best model only with val_acc available, skipping.\n",
            "Epoch 39/40\n",
            "80/80 [==============================] - 32s 400ms/step - loss: 0.4117 - accuracy: 0.8272 - val_loss: 0.6196 - val_accuracy: 0.7611\n",
            "WARNING:tensorflow:Can save best model only with val_acc available, skipping.\n",
            "Epoch 40/40\n",
            "80/80 [==============================] - 32s 400ms/step - loss: 0.3894 - accuracy: 0.8673 - val_loss: 0.4486 - val_accuracy: 0.8540\n",
            "WARNING:tensorflow:Can save best model only with val_acc available, skipping.\n"
          ],
          "name": "stdout"
        }
      ]
    },
    {
      "cell_type": "code",
      "metadata": {
        "id": "5j-ikJ2cag1f",
        "colab": {
          "base_uri": "https://localhost:8080/",
          "height": 458
        },
        "outputId": "9a51d3cc-d93b-4efe-af05-61afa1771798"
      },
      "source": [
        "acc=history.history['accuracy']\n",
        "val_acc=history.history['val_accuracy']\n",
        "loss=history.history['loss']\n",
        "val_loss=history.history['val_loss']\n",
        "\n",
        "epochs=range(len(acc))\n",
        "\n",
        "fig=plt.figure(figsize=(14,7))\n",
        "plt.plot(epochs,acc,'r', label='training Accuracy')\n",
        "plt.plot(epochs,val_acc,'b', label='Validation Accuracy')\n",
        "plt.xlabel('Epoch')\n",
        "plt.ylabel('accuracy')\n",
        "plt.title(' training vs validation accuracy')\n",
        "plt.legend(loc='lower right')\n",
        "plt.show()\n"
      ],
      "execution_count": null,
      "outputs": [
        {
          "output_type": "display_data",
          "data": {
            "image/png": "[encoded data removed]",
            "text/plain": [
              "<Figure size 1008x504 with 1 Axes>"
            ]
          },
          "metadata": {
            "tags": [],
            "needs_background": "light"
          }
        }
      ]
    },
    {
      "cell_type": "code",
      "metadata": {
        "id": "pR-YIDcf_Xno",
        "colab": {
          "base_uri": "https://localhost:8080/",
          "height": 458
        },
        "outputId": "a927ac9d-d119-4b04-d3d3-dd1652258ac5"
      },
      "source": [
        "fig2=plt.figure(figsize=(14,7))\n",
        "plt.plot(epochs,loss,'r', label='training Accuracy')\n",
        "plt.plot(epochs,val_loss,'b', label='Validation Accuracy')\n",
        "plt.xlabel('Epoch')\n",
        "plt.ylabel('accuracy')\n",
        "plt.title(' training vs validation accuracy')\n",
        "plt.legend(loc='upper right')\n",
        "plt.show()\n"
      ],
      "execution_count": null,
      "outputs": [
        {
          "output_type": "display_data",
          "data": {
            "image/png": "[encoded data removed]",
            "text/plain": [
              "<Figure size 1008x504 with 1 Axes>"
            ]
          },
          "metadata": {
            "tags": [],
            "needs_background": "light"
          }
        }
      ]
    },
    {
      "cell_type": "code",
      "metadata": {
        "id": "SKru3UW3EZk3"
      },
      "source": [
        "#testing our model on test data\n",
        "\n",
        "def preprocess_img(path):\n",
        "  img=load_img(path,target_size=(256,256))\n",
        "  ar=img_to_array(img)\n",
        "  ar=np.expand_dims(ar,axis=0)\n",
        "  ar/=255.\n",
        "  return ar"
      ],
      "execution_count": null,
      "outputs": []
    },
    {
      "cell_type": "code",
      "metadata": {
        "id": "08lqnhwcFLKK"
      },
      "source": [
        "from keras.preprocessing.image import load_img, img_to_array\n",
        "import pandas as pd\n",
        "import numpy as np\n",
        "test_images_dir = '/content/dataset/alien_test/'\n",
        "test_df = pd.read_csv('/content/dataset/test.csv')\n",
        "\n",
        "# put them in a list\n",
        "test_dfToList = test_df['Image_id'].tolist()\n",
        "test_ids = [str(item) for item in test_dfToList]\n",
        "\n",
        "test_images = [test_images_dir+item for item in test_ids]\n",
        "test_preprocessed_images = np.vstack([preprocess_img(fn) for fn in test_images])\n",
        "np.save('/content/test_preproc_CNN.npy', test_preprocessed_images)"
      ],
      "execution_count": null,
      "outputs": []
    },
    {
      "cell_type": "code",
      "metadata": {
        "id": "_0s_Wbl1ILoB",
        "colab": {
          "base_uri": "https://localhost:8080/"
        },
        "outputId": "17733a8b-72a0-460d-d7a8-8440a2e5e2b2"
      },
      "source": [
        "array=model.predict(test_preprocessed_images, batch_size=1, verbose=1)\n",
        "answer=np.argmax(array,axis=1)\n",
        "print(answer)"
      ],
      "execution_count": null,
      "outputs": [
        {
          "output_type": "stream",
          "text": [
            "30/30 [==============================] - 1s 8ms/step\n",
            "[0 0 3 3 1 0 1 1 0 1 4 1 2 1 2 2 2 2 2 2 3 3 3 4 4 4 4 4 4 4]\n"
          ],
          "name": "stdout"
        }
      ]
    },
    {
      "cell_type": "code",
      "metadata": {
        "id": "E2dLD6ubIMN3",
        "colab": {
          "base_uri": "https://localhost:8080/"
        },
        "outputId": "8c4c5a78-54e9-4a0f-cfbf-ae331247eaa6"
      },
      "source": [
        "test_df=pd.read_csv('/content/dataset/test.csv')\n",
        "y_true=test_df['labels']\n",
        "y_pred=array\n",
        "print(y_true)"
      ],
      "execution_count": null,
      "outputs": [
        {
          "output_type": "stream",
          "text": [
            "0     0\n",
            "1     0\n",
            "2     0\n",
            "3     0\n",
            "4     1\n",
            "5     1\n",
            "6     1\n",
            "7     1\n",
            "8     1\n",
            "9     1\n",
            "10    1\n",
            "11    1\n",
            "12    1\n",
            "13    1\n",
            "14    2\n",
            "15    2\n",
            "16    2\n",
            "17    2\n",
            "18    2\n",
            "19    2\n",
            "20    3\n",
            "21    3\n",
            "22    3\n",
            "23    4\n",
            "24    4\n",
            "25    4\n",
            "26    4\n",
            "27    4\n",
            "28    4\n",
            "29    4\n",
            "Name: labels, dtype: int64\n"
          ],
          "name": "stdout"
        }
      ]
    },
    {
      "cell_type": "code",
      "metadata": {
        "id": "372xmpG9IMu0",
        "colab": {
          "base_uri": "https://localhost:8080/"
        },
        "outputId": "ed5d54a3-ff9c-4b4d-a8a6-8f0b8b0cbf0d"
      },
      "source": [
        "from sklearn.metrics import classification_report,confusion_matrix\n",
        "conf_mat=confusion_matrix(y_true,answer)\n",
        "\n",
        "print(conf_mat)\n"
      ],
      "execution_count": null,
      "outputs": [
        {
          "output_type": "stream",
          "text": [
            "[[2 0 0 2 0]\n",
            " [2 6 1 0 1]\n",
            " [0 0 6 0 0]\n",
            " [0 0 0 3 0]\n",
            " [0 0 0 0 7]]\n"
          ],
          "name": "stdout"
        }
      ]
    },
    {
      "cell_type": "code",
      "metadata": {
        "id": "hUYfOn7xKQNW",
        "colab": {
          "base_uri": "https://localhost:8080/",
          "height": 286
        },
        "outputId": "efa65237-ce4d-496a-b0b7-643523c39d11"
      },
      "source": [
        "sns.heatmap(conf_mat)\n"
      ],
      "execution_count": null,
      "outputs": [
        {
          "output_type": "execute_result",
          "data": {
            "text/plain": [
              "<matplotlib.axes._subplots.AxesSubplot at 0x7f9c9f629750>"
            ]
          },
          "metadata": {
            "tags": []
          },
          "execution_count": 55
        },
        {
          "output_type": "display_data",
          "data": {
            "image/png": "[encoded data removed]",
            "text/plain": [
              "<Figure size 432x288 with 2 Axes>"
            ]
          },
          "metadata": {
            "tags": [],
            "needs_background": "light"
          }
        }
      ]
    },
    {
      "cell_type": "code",
      "metadata": {
        "id": "yGiot3QNVyDJ"
      },
      "source": [
        "import pickle filename='weather_detection.pkl'\n",
        " pickle.dump(model,open(filename,'wb'))"
      ],
      "execution_count": null,
      "outputs": []
    },
    {
      "cell_type": "code",
      "metadata": {
        "id": "f9k1uNchZUcT"
      },
      "source": [
        ""
      ],
      "execution_count": null,
      "outputs": []
    }
  ]
}