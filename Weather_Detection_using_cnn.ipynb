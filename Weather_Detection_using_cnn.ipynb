{
  "nbformat": 4,
  "nbformat_minor": 0,
  "metadata": {
    "colab": {
      "name": "Weather Detection using cnn",
      "provenance": [],
      "collapsed_sections": [],
      "include_colab_link": true
    },
    "kernelspec": {
      "name": "python3",
      "display_name": "Python 3"
    },
    "language_info": {
      "name": "python"
    },
    "accelerator": "GPU"
  },
  "cells": [
    {
      "cell_type": "markdown",
      "metadata": {
        "id": "view-in-github",
        "colab_type": "text"
      },
      "source": [
        "<a href=\"https://colab.research.google.com/github/theyashmishra/Weather-Detection/blob/main/Weather_Detection_using_cnn.ipynb\" target=\"_parent\"><img src=\"https://colab.research.google.com/assets/colab-badge.svg\" alt=\"Open In Colab\"/></a>"
      ]
    },
    {
      "cell_type": "markdown",
      "metadata": {
        "id": "4ftkVt8wHIxP"
      },
      "source": [
        "Step 1. Load data directory from Kaggle using API\n"
      ]
    },
    {
      "cell_type": "code",
      "metadata": {
        "id": "9tQc5bqajqTh"
      },
      "source": [
        "import os\n",
        "import warnings\n",
        "import random\n",
        "from shutil import copyfile\n",
        "#data visualization libraries\n",
        "import matplotlib.pyplot as plt\n",
        "import seaborn as sns\n",
        "import pathlib\n",
        "#deep learning libraries\n",
        "from keras.optimizers import Adam\n",
        "from keras.layers import Conv2D, Flatten, Dense, MaxPooling2D, Dropout\n",
        "from keras.models import Sequential\n",
        "from keras.preprocessing.image import ImageDataGenerator"
      ],
      "execution_count": 1,
      "outputs": []
    },
    {
      "cell_type": "code",
      "metadata": {
        "id": "_DDAfDWszmWI"
      },
      "source": [
        "#importing data directly from kaggle using kaggle api\n",
        "os.environ['KAGGLE_USERNAME']=\"theyashmishra\"\n",
        "os.environ['KAGGLE_KEY']=\"45d3832331831cbbd093dbd45272c90a\"\n"
      ],
      "execution_count": 2,
      "outputs": []
    },
    {
      "cell_type": "code",
      "metadata": {
        "colab": {
          "base_uri": "https://localhost:8080/"
        },
        "id": "ZoMb0gB9Galc",
        "outputId": "ef6e7921-a019-4822-a11d-964a1375074f"
      },
      "source": [
        "!kaggle datasets download -d vijaygiitk/multiclass-weather-dataset"
      ],
      "execution_count": 3,
      "outputs": [
        {
          "output_type": "stream",
          "text": [
            "Downloading multiclass-weather-dataset.zip to /content\n",
            " 94% 126M/134M [00:00<00:00, 149MB/s]\n",
            "100% 134M/134M [00:01<00:00, 138MB/s]\n"
          ],
          "name": "stdout"
        }
      ]
    },
    {
      "cell_type": "code",
      "metadata": {
        "colab": {
          "base_uri": "https://localhost:8080/"
        },
        "id": "sP3jBg9AGn00",
        "outputId": "89f16db7-9d0f-47ff-c3f1-fbd2ec848c02"
      },
      "source": [
        "from zipfile import ZipFile\n",
        "filename=\"/content/multiclass-weather-dataset.zip\"\n",
        "with ZipFile(filename,'r') as zip:\n",
        "  zip.extractall()\n",
        "  print(\"done\")"
      ],
      "execution_count": 4,
      "outputs": [
        {
          "output_type": "stream",
          "text": [
            "done\n"
          ],
          "name": "stdout"
        }
      ]
    },
    {
      "cell_type": "markdown",
      "metadata": {
        "id": "oaOj-dsYHn_W"
      },
      "source": [
        "Step 2. Exploratory Data Analysis (EDA)"
      ]
    },
    {
      "cell_type": "code",
      "metadata": {
        "colab": {
          "base_uri": "https://localhost:8080/"
        },
        "id": "KPNcwKC4LLkx",
        "outputId": "9c382070-1897-48c0-93bf-244d8f858e65"
      },
      "source": [
        "import warnings\n",
        "warnings.filterwarnings('ignore')\n",
        "data_dir_list=os.listdir('/content/dataset')\n",
        "#get all the path\n",
        "print(data_dir_list)\n",
        "path, dirs,files=next(os.walk(\"/content/dataset\"))\n",
        "file_count=len(files)"
      ],
      "execution_count": 5,
      "outputs": [
        {
          "output_type": "stream",
          "text": [
            "['test.csv', 'sunrise', 'foggy', 'cloudy', 'alien_test', 'shine', 'rainy']\n"
          ],
          "name": "stdout"
        }
      ]
    },
    {
      "cell_type": "code",
      "metadata": {
        "id": "i8QNshebMFzn"
      },
      "source": [
        "#Make new base directory\n",
        "original_dataset_dir='/content/dataset'\n",
        "base_dir='/content/weather-data'\n",
        "os.mkdir(base_dir)"
      ],
      "execution_count": 6,
      "outputs": []
    },
    {
      "cell_type": "code",
      "metadata": {
        "id": "DxeUhbwfTw4d"
      },
      "source": [
        "#create two folders (train and validation)\n",
        "train_dir = os.path.join(base_dir, 'train')\n",
        "os.mkdir(train_dir)\n",
        "\n",
        "validation_dir = os.path.join(base_dir, 'validation')\n",
        "os.mkdir(validation_dir)\n",
        "\n",
        "#Under train folder create five folders \n",
        "# (cloud, folly, rainy, shine, sunrise)\n",
        "\n",
        "train_cloud_dir = os.path.join(train_dir, 'cloudy')\n",
        "os.mkdir(train_cloud_dir)\n",
        "\n",
        "train_foggy_dir = os.path.join(train_dir, 'foggy')\n",
        "os.mkdir(train_foggy_dir)\n",
        "\n",
        "train_rainy_dir = os.path.join(train_dir, 'rainy')\n",
        "os.mkdir(train_rainy_dir)\n",
        "\n",
        "train_shine_dir = os.path.join(train_dir, 'shine')\n",
        "os.mkdir(train_shine_dir)\n",
        "\n",
        "train_sunrise_dir = os.path.join(train_dir, 'sunrise')\n",
        "os.mkdir(train_sunrise_dir)\n",
        "\n",
        "#Under validation folder create five folders \n",
        "# (cloud, folly, rainy, shine, sunrise)\n",
        "\n",
        "validation_cloud_dir = os.path.join(validation_dir, 'cloudy')\n",
        "os.mkdir(validation_cloud_dir)\n",
        "\n",
        "validation_foggy_dir = os.path.join(validation_dir, 'foggy')\n",
        "os.mkdir(validation_foggy_dir)\n",
        "\n",
        "validation_rainy_dir = os.path.join(validation_dir, 'rainy')\n",
        "os.mkdir(validation_rainy_dir)\n",
        "\n",
        "validation_shine_dir = os.path.join(validation_dir, 'shine')\n",
        "os.mkdir(validation_shine_dir)\n",
        "\n",
        "validation_sunrise_dir = os.path.join(validation_dir, 'sunrise')\n",
        "os.mkdir(validation_sunrise_dir)"
      ],
      "execution_count": 7,
      "outputs": []
    },
    {
      "cell_type": "code",
      "metadata": {
        "id": "LU1FB8v5a1fM"
      },
      "source": [
        "def split_data(SOURCE, TRAINING, VALIDATION, SPLIT_SIZE):\n",
        "    files = []\n",
        "    for filename in os.listdir(SOURCE):\n",
        "        file = SOURCE + filename\n",
        "        if os.path.getsize(file) > 0:\n",
        "            files.append(filename)\n",
        "        else:\n",
        "            print(filename + \" is zero length, so ignoring.\")\n",
        "\n",
        "    training_length = int(len(files) * SPLIT_SIZE)\n",
        "    valid_length = int(len(files) - training_length)\n",
        "    shuffled_set = random.sample(files, len(files))\n",
        "    training_set = shuffled_set[0:training_length]\n",
        "    valid_set = shuffled_set[training_length:]\n",
        "\n",
        "    for filename in training_set:\n",
        "        this_file = SOURCE + filename\n",
        "        destination = TRAINING + filename\n",
        "        copyfile(this_file, destination)\n",
        "\n",
        "    for filename in valid_set:\n",
        "        this_file = SOURCE + filename\n",
        "        destination = VALIDATION + filename\n",
        "        copyfile(this_file, destination)"
      ],
      "execution_count": 8,
      "outputs": []
    },
    {
      "cell_type": "code",
      "metadata": {
        "id": "eFpsEcqj0tot"
      },
      "source": [
        "CLOUDY_SOURCE_DIR = '/content/dataset/cloudy/'\n",
        "TRAINING_CLOUDY_DIR = '/content/weather-data/train/cloudy/'\n",
        "VALID_CLOUDY_DIR = '/content/weather-data/validation/cloudy/'\n",
        "\n",
        "FOGGY_SOURCE_DIR = '/content/dataset/foggy/'\n",
        "TRAINING_FOGGY_DIR = '/content/weather-data/train/foggy/'\n",
        "VALID_FOGGY_DIR = '/content/weather-data/validation/foggy/'\n",
        "\n",
        "RAINY_SOURCE_DIR = '/content/dataset/rainy/'\n",
        "TRAINING_RAINY_DIR = '/content/weather-data/train/rainy/'\n",
        "VALID_RAINY_DIR = '/content/weather-data/validation/rainy/'\n",
        "\n",
        "SHINE_SOURCE_DIR = '/content/dataset/shine/'\n",
        "TRAINING_SHINE_DIR = '/content/weather-data/train/shine/'\n",
        "VALID_SHINE_DIR = '/content/weather-data/validation/shine/'\n",
        "\n",
        "SUNRISE_SOURCE_DIR = '/content/dataset/sunrise/'\n",
        "TRAINING_SUNRISE_DIR = '/content/weather-data/train/sunrise/'\n",
        "VALID_SUNRISE_DIR = '/content/weather-data/validation/sunrise/'"
      ],
      "execution_count": 9,
      "outputs": []
    },
    {
      "cell_type": "code",
      "metadata": {
        "id": "3iuRx7Xf2Y-o"
      },
      "source": [
        "split_size=0.85\n",
        "split_data(CLOUDY_SOURCE_DIR,TRAINING_CLOUDY_DIR,VALID_CLOUDY_DIR,split_size)\n",
        "\n",
        "split_data(FOGGY_SOURCE_DIR,\n",
        "TRAINING_FOGGY_DIR,\n",
        "VALID_FOGGY_DIR,split_size)\n",
        "\n",
        "split_data(RAINY_SOURCE_DIR,\n",
        "TRAINING_RAINY_DIR,\n",
        "VALID_RAINY_DIR,split_size)\n",
        "\n",
        "split_data(SHINE_SOURCE_DIR,\n",
        "TRAINING_SHINE_DIR,\n",
        "VALID_SHINE_DIR,split_size)\n",
        "\n",
        "split_data(SUNRISE_SOURCE_DIR,\n",
        "TRAINING_SUNRISE_DIR,\n",
        "VALID_SUNRISE_DIR,split_size)"
      ],
      "execution_count": 10,
      "outputs": []
    },
    {
      "cell_type": "code",
      "metadata": {
        "id": "OzEbiEdKUwXq",
        "colab": {
          "base_uri": "https://localhost:8080/",
          "height": 390
        },
        "outputId": "663db905-cbea-4fe3-9c6a-18ce70be7a52"
      },
      "source": [
        "image_folder=['cloudy', 'foggy', 'rainy', 'shine','sunrise']\n",
        "nimgs={}\n",
        "for i in image_folder:\n",
        "   nimages=len(os.listdir('/content/weather-data/train/'+i+'/'))\n",
        "   nimgs[i]=nimages\n",
        "plt.figure(figsize=(9,6))\n",
        "plt.bar(range(len(nimgs)),list(nimgs.values()),align='center')\n",
        "plt.xticks(range(len(nimgs)),list(nimgs.values()))\n",
        "plt.title('Distribution of different classes in Validation Dataset')\n",
        "plt.show()\n"
      ],
      "execution_count": 11,
      "outputs": [
        {
          "output_type": "display_data",
          "data": {
            "image/png": "[encoded data removed]",
            "text/plain": [
              "<Figure size 648x432 with 1 Axes>"
            ]
          },
          "metadata": {
            "tags": [],
            "needs_background": "light"
          }
        }
      ]
    },
    {
      "cell_type": "code",
      "metadata": {
        "id": "HuyWUIUU3Ca0",
        "colab": {
          "base_uri": "https://localhost:8080/",
          "height": 390
        },
        "outputId": "e78632e2-9af0-4bb7-d24d-d0b00ee0e8f3"
      },
      "source": [
        "image_folder=['cloudy', 'foggy', 'rainy', 'shine','sunrise']\n",
        "nimgs={}\n",
        "for i in image_folder:\n",
        "   nimages=len(os.listdir('/content/weather-data/validation/'+i+'/'))\n",
        "   nimgs[i]=nimages\n",
        "plt.figure(figsize=(9,6))\n",
        "plt.bar(range(len(nimgs)),list(nimgs.values()),align='center')\n",
        "plt.xticks(range(len(nimgs)),list(nimgs.values()))\n",
        "plt.title('Distribution of different classes in Validation Dataset')\n",
        "plt.show()\n"
      ],
      "execution_count": 12,
      "outputs": [
        {
          "output_type": "display_data",
          "data": {
            "image/png": "[encoded data removed]",
            "text/plain": [
              "<Figure size 648x432 with 1 Axes>"
            ]
          },
          "metadata": {
            "tags": [],
            "needs_background": "light"
          }
        }
      ]
    },
    {
      "cell_type": "code",
      "metadata": {
        "id": "Ao4lCAT2IeI8",
        "colab": {
          "base_uri": "https://localhost:8080/"
        },
        "outputId": "d297729f-f9f3-4f59-af04-a3b6921ce37c"
      },
      "source": [
        "for i in ['cloudy', 'foggy', 'rainy', 'shine','sunrise']:\n",
        "  print('valid {} images are: '.format(i)+str(len(os.listdir('/content/weather-data/validation/'+i+'/'))))"
      ],
      "execution_count": 13,
      "outputs": [
        {
          "output_type": "stream",
          "text": [
            "valid cloudy images are: 45\n",
            "valid foggy images are: 45\n",
            "valid rainy images are: 45\n",
            "valid shine images are: 38\n",
            "valid sunrise images are: 53\n"
          ],
          "name": "stdout"
        }
      ]
    },
    {
      "cell_type": "markdown",
      "metadata": {
        "id": "hDli6l75IIUo"
      },
      "source": [
        "Step 3. Deep Learning with Data Augumentation"
      ]
    },
    {
      "cell_type": "code",
      "metadata": {
        "id": "1QIRe116KY3U",
        "colab": {
          "base_uri": "https://localhost:8080/"
        },
        "outputId": "769b4a70-aa93-44e9-9636-b4c2ca6a8b12"
      },
      "source": [
        "img_width=256; img_height=256\n",
        "batch_size=16\n",
        "TRAINING_DIR='/content/weather-data/train/'\n",
        "train_datagen = ImageDataGenerator(\n",
        "        rescale=1./255,\n",
        "        rotation_range=30,\n",
        "        zoom_range=0.2,\n",
        "        horizontal_flip=True)\n",
        "train_generator = train_datagen.flow_from_directory(\n",
        "      TRAINING_DIR,\n",
        "        target_size=(256, 256),\n",
        "        batch_size=16,\n",
        "        class_mode='categorical',\n",
        "        )"
      ],
      "execution_count": 14,
      "outputs": [
        {
          "output_type": "stream",
          "text": [
            "Found 1274 images belonging to 5 classes.\n"
          ],
          "name": "stdout"
        }
      ]
    },
    {
      "cell_type": "code",
      "metadata": {
        "id": "0JxUvj12WKsf",
        "colab": {
          "base_uri": "https://localhost:8080/"
        },
        "outputId": "6bee3cf5-b471-41ee-ec45-7f14629b9975"
      },
      "source": [
        "VALIDATION_DIR='/content/weather-data/validation'\n",
        "validation_datagen= ImageDataGenerator(rescale=1./255)\n",
        "validation_generator=validation_datagen.flow_from_directory(\n",
        "       VALIDATION_DIR,\n",
        "        target_size=(256, 256),\n",
        "        batch_size=16,\n",
        "        class_mode='categorical')"
      ],
      "execution_count": 15,
      "outputs": [
        {
          "output_type": "stream",
          "text": [
            "Found 226 images belonging to 5 classes.\n"
          ],
          "name": "stdout"
        }
      ]
    },
    {
      "cell_type": "code",
      "metadata": {
        "id": "lbOPdyVxXR-F"
      },
      "source": [
        "from keras.callbacks import EarlyStopping, ModelCheckpoint\n",
        "callbacks=EarlyStopping(monitor='val_loss', patience=5, verbose=1,mode='auto')\n",
        "best_model_file='/content/CNN_aug_best_weight.h5'\n",
        "best_model=ModelCheckpoint(best_model_file,monitor='val_acc', verbose=1,save_best_only='true')"
      ],
      "execution_count": 16,
      "outputs": []
    },
    {
      "cell_type": "code",
      "metadata": {
        "id": "JlS7GNl6XZe0"
      },
      "source": [
        "model=Sequential([\n",
        "                  Conv2D(16, (3,3),input_shape=(256,256,3), activation='relu'),\n",
        "                   Conv2D(32, (3,3), activation='relu'),\n",
        "                   MaxPooling2D(2,2),\n",
        "                    Conv2D(64, (3,3), activation='relu'),\n",
        "                     Conv2D(64, (3,3), activation='relu'),\n",
        "                          MaxPooling2D(2,2) ,\n",
        "                     Conv2D(128, (3,3), activation='relu'),\n",
        "                     Conv2D(128, (3,3), activation='relu'),\n",
        "                          MaxPooling2D(2,2)  ,\n",
        "                           Conv2D(256, (3,3), activation='relu'),\n",
        "                     Conv2D(256, (3,3), activation='relu'),\n",
        "                          MaxPooling2D(2,2) ,\n",
        "                          Flatten(),\n",
        "                          Dense(256,activation='relu')  ,\n",
        "                           Dense(256,activation='relu')  ,   \n",
        "                         Dense(5,activation='softmax')  \n",
        "])"
      ],
      "execution_count": 17,
      "outputs": []
    },
    {
      "cell_type": "code",
      "metadata": {
        "id": "SwzgecXtYrMt",
        "colab": {
          "base_uri": "https://localhost:8080/"
        },
        "outputId": "fffb8354-9464-4c19-9120-2de5379a728d"
      },
      "source": [
        "model.summary()"
      ],
      "execution_count": 18,
      "outputs": [
        {
          "output_type": "stream",
          "text": [
            "Model: \"sequential\"\n",
            "_________________________________________________________________\n",
            "Layer (type)                 Output Shape              Param #   \n",
            "=================================================================\n",
            "conv2d (Conv2D)              (None, 254, 254, 16)      448       \n",
            "_________________________________________________________________\n",
            "conv2d_1 (Conv2D)            (None, 252, 252, 32)      4640      \n",
            "_________________________________________________________________\n",
            "max_pooling2d (MaxPooling2D) (None, 126, 126, 32)      0         \n",
            "_________________________________________________________________\n",
            "conv2d_2 (Conv2D)            (None, 124, 124, 64)      18496     \n",
            "_________________________________________________________________\n",
            "conv2d_3 (Conv2D)            (None, 122, 122, 64)      36928     \n",
            "_________________________________________________________________\n",
            "max_pooling2d_1 (MaxPooling2 (None, 61, 61, 64)        0         \n",
            "_________________________________________________________________\n",
            "conv2d_4 (Conv2D)            (None, 59, 59, 128)       73856     \n",
            "_________________________________________________________________\n",
            "conv2d_5 (Conv2D)            (None, 57, 57, 128)       147584    \n",
            "_________________________________________________________________\n",
            "max_pooling2d_2 (MaxPooling2 (None, 28, 28, 128)       0         \n",
            "_________________________________________________________________\n",
            "conv2d_6 (Conv2D)            (None, 26, 26, 256)       295168    \n",
            "_________________________________________________________________\n",
            "conv2d_7 (Conv2D)            (None, 24, 24, 256)       590080    \n",
            "_________________________________________________________________\n",
            "max_pooling2d_3 (MaxPooling2 (None, 12, 12, 256)       0         \n",
            "_________________________________________________________________\n",
            "flatten (Flatten)            (None, 36864)             0         \n",
            "_________________________________________________________________\n",
            "dense (Dense)                (None, 256)               9437440   \n",
            "_________________________________________________________________\n",
            "dense_1 (Dense)              (None, 256)               65792     \n",
            "_________________________________________________________________\n",
            "dense_2 (Dense)              (None, 5)                 1285      \n",
            "=================================================================\n",
            "Total params: 10,671,717\n",
            "Trainable params: 10,671,717\n",
            "Non-trainable params: 0\n",
            "_________________________________________________________________\n"
          ],
          "name": "stdout"
        }
      ]
    },
    {
      "cell_type": "code",
      "metadata": {
        "id": "TVRePL5dZyWR"
      },
      "source": [
        "model.compile(optimizer='Adam',loss='categorical_crossentropy',metrics=['accuracy'])"
      ],
      "execution_count": 19,
      "outputs": []
    },
    {
      "cell_type": "code",
      "metadata": {
        "id": "Yx6Ag_mKaGcB",
        "colab": {
          "base_uri": "https://localhost:8080/"
        },
        "outputId": "4e98ff28-dfb4-4e86-8904-b02fa8a39cf6"
      },
      "source": [
        "history=model.fit_generator(\n",
        "        train_generator,\n",
        "        epochs=40,\n",
        "        validation_data=validation_generator,\n",
        "        callbacks=[best_model])"
      ],
      "execution_count": 20,
      "outputs": [
        {
          "output_type": "stream",
          "text": [
            "Epoch 1/40\n",
            "80/80 [==============================] - 76s 378ms/step - loss: 1.5728 - accuracy: 0.2705 - val_loss: 1.2579 - val_accuracy: 0.4735\n",
            "WARNING:tensorflow:Can save best model only with val_acc available, skipping.\n",
            "Epoch 2/40\n",
            "80/80 [==============================] - 28s 351ms/step - loss: 1.2103 - accuracy: 0.4733 - val_loss: 1.0324 - val_accuracy: 0.5088\n",
            "WARNING:tensorflow:Can save best model only with val_acc available, skipping.\n",
            "Epoch 3/40\n",
            "80/80 [==============================] - 28s 348ms/step - loss: 0.9494 - accuracy: 0.5999 - val_loss: 0.8853 - val_accuracy: 0.6195\n",
            "WARNING:tensorflow:Can save best model only with val_acc available, skipping.\n",
            "Epoch 4/40\n",
            "80/80 [==============================] - 28s 349ms/step - loss: 0.9465 - accuracy: 0.5962 - val_loss: 0.8990 - val_accuracy: 0.6549\n",
            "WARNING:tensorflow:Can save best model only with val_acc available, skipping.\n",
            "Epoch 5/40\n",
            "80/80 [==============================] - 28s 350ms/step - loss: 0.9301 - accuracy: 0.6079 - val_loss: 0.8518 - val_accuracy: 0.6372\n",
            "WARNING:tensorflow:Can save best model only with val_acc available, skipping.\n",
            "Epoch 6/40\n",
            "80/80 [==============================] - 28s 355ms/step - loss: 0.8083 - accuracy: 0.6788 - val_loss: 0.8305 - val_accuracy: 0.6637\n",
            "WARNING:tensorflow:Can save best model only with val_acc available, skipping.\n",
            "Epoch 7/40\n",
            "80/80 [==============================] - 28s 348ms/step - loss: 0.8198 - accuracy: 0.6672 - val_loss: 0.9485 - val_accuracy: 0.6283\n",
            "WARNING:tensorflow:Can save best model only with val_acc available, skipping.\n",
            "Epoch 8/40\n",
            "80/80 [==============================] - 28s 349ms/step - loss: 0.7759 - accuracy: 0.6844 - val_loss: 0.8879 - val_accuracy: 0.6150\n",
            "WARNING:tensorflow:Can save best model only with val_acc available, skipping.\n",
            "Epoch 9/40\n",
            "80/80 [==============================] - 28s 347ms/step - loss: 0.7727 - accuracy: 0.6868 - val_loss: 0.8463 - val_accuracy: 0.6239\n",
            "WARNING:tensorflow:Can save best model only with val_acc available, skipping.\n",
            "Epoch 10/40\n",
            "80/80 [==============================] - 28s 349ms/step - loss: 0.7329 - accuracy: 0.6899 - val_loss: 0.8356 - val_accuracy: 0.6504\n",
            "WARNING:tensorflow:Can save best model only with val_acc available, skipping.\n",
            "Epoch 11/40\n",
            "80/80 [==============================] - 28s 351ms/step - loss: 0.8099 - accuracy: 0.6871 - val_loss: 0.7704 - val_accuracy: 0.7080\n",
            "WARNING:tensorflow:Can save best model only with val_acc available, skipping.\n",
            "Epoch 12/40\n",
            "80/80 [==============================] - 28s 350ms/step - loss: 0.7836 - accuracy: 0.6783 - val_loss: 0.7810 - val_accuracy: 0.6903\n",
            "WARNING:tensorflow:Can save best model only with val_acc available, skipping.\n",
            "Epoch 13/40\n",
            "80/80 [==============================] - 28s 345ms/step - loss: 0.7082 - accuracy: 0.7108 - val_loss: 0.7905 - val_accuracy: 0.6858\n",
            "WARNING:tensorflow:Can save best model only with val_acc available, skipping.\n",
            "Epoch 14/40\n",
            "80/80 [==============================] - 28s 345ms/step - loss: 0.7714 - accuracy: 0.6884 - val_loss: 0.8091 - val_accuracy: 0.6681\n",
            "WARNING:tensorflow:Can save best model only with val_acc available, skipping.\n",
            "Epoch 15/40\n",
            "80/80 [==============================] - 28s 345ms/step - loss: 0.6514 - accuracy: 0.7323 - val_loss: 0.7419 - val_accuracy: 0.7124\n",
            "WARNING:tensorflow:Can save best model only with val_acc available, skipping.\n",
            "Epoch 16/40\n",
            "80/80 [==============================] - 28s 347ms/step - loss: 0.6836 - accuracy: 0.7463 - val_loss: 0.8697 - val_accuracy: 0.6637\n",
            "WARNING:tensorflow:Can save best model only with val_acc available, skipping.\n",
            "Epoch 17/40\n",
            "80/80 [==============================] - 28s 346ms/step - loss: 0.6773 - accuracy: 0.7338 - val_loss: 0.6830 - val_accuracy: 0.7566\n",
            "WARNING:tensorflow:Can save best model only with val_acc available, skipping.\n",
            "Epoch 18/40\n",
            "80/80 [==============================] - 28s 355ms/step - loss: 0.6403 - accuracy: 0.7426 - val_loss: 0.6965 - val_accuracy: 0.7611\n",
            "WARNING:tensorflow:Can save best model only with val_acc available, skipping.\n",
            "Epoch 19/40\n",
            "80/80 [==============================] - 28s 344ms/step - loss: 0.5907 - accuracy: 0.7836 - val_loss: 0.6800 - val_accuracy: 0.7699\n",
            "WARNING:tensorflow:Can save best model only with val_acc available, skipping.\n",
            "Epoch 20/40\n",
            "80/80 [==============================] - 28s 346ms/step - loss: 0.6163 - accuracy: 0.7602 - val_loss: 0.7200 - val_accuracy: 0.7257\n",
            "WARNING:tensorflow:Can save best model only with val_acc available, skipping.\n",
            "Epoch 21/40\n",
            "80/80 [==============================] - 28s 345ms/step - loss: 0.6819 - accuracy: 0.7437 - val_loss: 0.7551 - val_accuracy: 0.7212\n",
            "WARNING:tensorflow:Can save best model only with val_acc available, skipping.\n",
            "Epoch 22/40\n",
            "80/80 [==============================] - 28s 345ms/step - loss: 0.5439 - accuracy: 0.7799 - val_loss: 0.6751 - val_accuracy: 0.6858\n",
            "WARNING:tensorflow:Can save best model only with val_acc available, skipping.\n",
            "Epoch 23/40\n",
            "80/80 [==============================] - 28s 346ms/step - loss: 0.5294 - accuracy: 0.7845 - val_loss: 0.6924 - val_accuracy: 0.7212\n",
            "WARNING:tensorflow:Can save best model only with val_acc available, skipping.\n",
            "Epoch 24/40\n",
            "80/80 [==============================] - 28s 345ms/step - loss: 0.5423 - accuracy: 0.7812 - val_loss: 0.7445 - val_accuracy: 0.7345\n",
            "WARNING:tensorflow:Can save best model only with val_acc available, skipping.\n",
            "Epoch 25/40\n",
            "80/80 [==============================] - 28s 348ms/step - loss: 0.5349 - accuracy: 0.7765 - val_loss: 0.5969 - val_accuracy: 0.7434\n",
            "WARNING:tensorflow:Can save best model only with val_acc available, skipping.\n",
            "Epoch 26/40\n",
            "80/80 [==============================] - 28s 344ms/step - loss: 0.5008 - accuracy: 0.8023 - val_loss: 0.6916 - val_accuracy: 0.7743\n",
            "WARNING:tensorflow:Can save best model only with val_acc available, skipping.\n",
            "Epoch 27/40\n",
            "80/80 [==============================] - 28s 346ms/step - loss: 0.5027 - accuracy: 0.8036 - val_loss: 0.6594 - val_accuracy: 0.7434\n",
            "WARNING:tensorflow:Can save best model only with val_acc available, skipping.\n",
            "Epoch 28/40\n",
            "80/80 [==============================] - 27s 343ms/step - loss: 0.4747 - accuracy: 0.8253 - val_loss: 0.7358 - val_accuracy: 0.7434\n",
            "WARNING:tensorflow:Can save best model only with val_acc available, skipping.\n",
            "Epoch 29/40\n",
            "80/80 [==============================] - 28s 343ms/step - loss: 0.4554 - accuracy: 0.8264 - val_loss: 0.6381 - val_accuracy: 0.7257\n",
            "WARNING:tensorflow:Can save best model only with val_acc available, skipping.\n",
            "Epoch 30/40\n",
            "80/80 [==============================] - 28s 344ms/step - loss: 0.3975 - accuracy: 0.8457 - val_loss: 0.6522 - val_accuracy: 0.7566\n",
            "WARNING:tensorflow:Can save best model only with val_acc available, skipping.\n",
            "Epoch 31/40\n",
            "80/80 [==============================] - 28s 344ms/step - loss: 0.5100 - accuracy: 0.8180 - val_loss: 0.6770 - val_accuracy: 0.7743\n",
            "WARNING:tensorflow:Can save best model only with val_acc available, skipping.\n",
            "Epoch 32/40\n",
            "80/80 [==============================] - 28s 353ms/step - loss: 0.4524 - accuracy: 0.8276 - val_loss: 0.7499 - val_accuracy: 0.7212\n",
            "WARNING:tensorflow:Can save best model only with val_acc available, skipping.\n",
            "Epoch 33/40\n",
            "80/80 [==============================] - 27s 339ms/step - loss: 0.4355 - accuracy: 0.8368 - val_loss: 0.5593 - val_accuracy: 0.7920\n",
            "WARNING:tensorflow:Can save best model only with val_acc available, skipping.\n",
            "Epoch 34/40\n",
            "80/80 [==============================] - 27s 339ms/step - loss: 0.4193 - accuracy: 0.8370 - val_loss: 0.6769 - val_accuracy: 0.7611\n",
            "WARNING:tensorflow:Can save best model only with val_acc available, skipping.\n",
            "Epoch 35/40\n",
            "80/80 [==============================] - 27s 339ms/step - loss: 0.4110 - accuracy: 0.8427 - val_loss: 0.5630 - val_accuracy: 0.7832\n",
            "WARNING:tensorflow:Can save best model only with val_acc available, skipping.\n",
            "Epoch 36/40\n",
            "80/80 [==============================] - 27s 337ms/step - loss: 0.3460 - accuracy: 0.8663 - val_loss: 0.8349 - val_accuracy: 0.7788\n",
            "WARNING:tensorflow:Can save best model only with val_acc available, skipping.\n",
            "Epoch 37/40\n",
            "80/80 [==============================] - 27s 339ms/step - loss: 0.4127 - accuracy: 0.8497 - val_loss: 0.6283 - val_accuracy: 0.7611\n",
            "WARNING:tensorflow:Can save best model only with val_acc available, skipping.\n",
            "Epoch 38/40\n",
            "80/80 [==============================] - 27s 337ms/step - loss: 0.3703 - accuracy: 0.8452 - val_loss: 0.6818 - val_accuracy: 0.7522\n",
            "WARNING:tensorflow:Can save best model only with val_acc available, skipping.\n",
            "Epoch 39/40\n",
            "80/80 [==============================] - 27s 339ms/step - loss: 0.3572 - accuracy: 0.8698 - val_loss: 0.5339 - val_accuracy: 0.8230\n",
            "WARNING:tensorflow:Can save best model only with val_acc available, skipping.\n",
            "Epoch 40/40\n",
            "80/80 [==============================] - 27s 341ms/step - loss: 0.3417 - accuracy: 0.8710 - val_loss: 0.5786 - val_accuracy: 0.7788\n",
            "WARNING:tensorflow:Can save best model only with val_acc available, skipping.\n"
          ],
          "name": "stdout"
        }
      ]
    },
    {
      "cell_type": "code",
      "metadata": {
        "id": "5j-ikJ2cag1f",
        "colab": {
          "base_uri": "https://localhost:8080/",
          "height": 458
        },
        "outputId": "a5ceba79-0f93-47a6-d272-71df3c005c9f"
      },
      "source": [
        "acc=history.history['accuracy']\n",
        "val_acc=history.history['val_accuracy']\n",
        "loss=history.history['loss']\n",
        "val_loss=history.history['val_loss']\n",
        "\n",
        "epochs=range(len(acc))\n",
        "\n",
        "fig=plt.figure(figsize=(14,7))\n",
        "plt.plot(epochs,acc,'r', label='training Accuracy')\n",
        "plt.plot(epochs,val_acc,'b', label='Validation Accuracy')\n",
        "plt.xlabel('Epoch')\n",
        "plt.ylabel('accuracy')\n",
        "plt.title(' training vs validation accuracy')\n",
        "plt.legend(loc='lower right')\n",
        "plt.show()\n"
      ],
      "execution_count": 21,
      "outputs": [
        {
          "output_type": "display_data",
          "data": {
            "image/png": "[encoded data removed]",
            "text/plain": [
              "<Figure size 1008x504 with 1 Axes>"
            ]
          },
          "metadata": {
            "tags": [],
            "needs_background": "light"
          }
        }
      ]
    },
    {
      "cell_type": "code",
      "metadata": {
        "id": "pR-YIDcf_Xno",
        "colab": {
          "base_uri": "https://localhost:8080/",
          "height": 458
        },
        "outputId": "1c7819ab-3743-45dd-999f-6c1226c3d073"
      },
      "source": [
        "fig2=plt.figure(figsize=(14,7))\n",
        "plt.plot(epochs,loss,'r', label='training Accuracy')\n",
        "plt.plot(epochs,val_loss,'b', label='Validation Accuracy')\n",
        "plt.xlabel('Epoch')\n",
        "plt.ylabel('accuracy')\n",
        "plt.title(' training vs validation accuracy')\n",
        "plt.legend(loc='upper right')\n",
        "plt.show()\n"
      ],
      "execution_count": 22,
      "outputs": [
        {
          "output_type": "display_data",
          "data": {
            "image/png": "[encoded data removed]",
            "text/plain": [
              "<Figure size 1008x504 with 1 Axes>"
            ]
          },
          "metadata": {
            "tags": [],
            "needs_background": "light"
          }
        }
      ]
    },
    {
      "cell_type": "code",
      "metadata": {
        "id": "SKru3UW3EZk3"
      },
      "source": [
        "#testing our model on test data\n",
        "\n",
        "def preprocess_img(path):\n",
        "  img=load_img(path,target_size=(256,256))\n",
        "  ar=img_to_array(img)\n",
        "  ar=np.expand_dims(ar,axis=0)\n",
        "  ar/=255.\n",
        "  return ar"
      ],
      "execution_count": 23,
      "outputs": []
    },
    {
      "cell_type": "markdown",
      "metadata": {
        "id": "t3Cz6SZyIZmP"
      },
      "source": [
        "\n",
        "Step 4. Checking performance on Test Data (Out of the sample)"
      ]
    },
    {
      "cell_type": "code",
      "metadata": {
        "id": "08lqnhwcFLKK"
      },
      "source": [
        "from keras.preprocessing.image import load_img, img_to_array\n",
        "import pandas as pd\n",
        "import numpy as np\n",
        "test_images_dir = '/content/dataset/alien_test/'\n",
        "test_df = pd.read_csv('/content/dataset/test.csv')\n",
        "\n",
        "# put them in a list\n",
        "test_dfToList = test_df['Image_id'].tolist()\n",
        "test_ids = [str(item) for item in test_dfToList]\n",
        "\n",
        "test_images = [test_images_dir+item for item in test_ids]\n",
        "test_preprocessed_images = np.vstack([preprocess_img(fn) for fn in test_images])\n",
        "np.save('/content/test_preproc_CNN.npy', test_preprocessed_images)"
      ],
      "execution_count": 24,
      "outputs": []
    },
    {
      "cell_type": "code",
      "metadata": {
        "id": "_0s_Wbl1ILoB",
        "colab": {
          "base_uri": "https://localhost:8080/"
        },
        "outputId": "5b348c84-006a-4911-b201-4cec79e3836c"
      },
      "source": [
        "array=model.predict(test_preprocessed_images, batch_size=1, verbose=1)\n",
        "answer=np.argmax(array,axis=1)\n",
        "print(answer)"
      ],
      "execution_count": 25,
      "outputs": [
        {
          "output_type": "stream",
          "text": [
            "30/30 [==============================] - 1s 3ms/step\n",
            "[1 0 3 3 1 2 1 2 0 1 4 1 2 1 4 2 2 0 2 2 3 3 3 4 4 4 4 4 4 4]\n"
          ],
          "name": "stdout"
        }
      ]
    },
    {
      "cell_type": "code",
      "metadata": {
        "id": "E2dLD6ubIMN3",
        "colab": {
          "base_uri": "https://localhost:8080/"
        },
        "outputId": "66b75a65-5079-4159-ad4c-d2ebc5b7f444"
      },
      "source": [
        "test_df=pd.read_csv('/content/dataset/test.csv')\n",
        "y_true=test_df['labels']\n",
        "y_pred=array\n",
        "print(y_true)"
      ],
      "execution_count": 26,
      "outputs": [
        {
          "output_type": "stream",
          "text": [
            "0     0\n",
            "1     0\n",
            "2     0\n",
            "3     0\n",
            "4     1\n",
            "5     1\n",
            "6     1\n",
            "7     1\n",
            "8     1\n",
            "9     1\n",
            "10    1\n",
            "11    1\n",
            "12    1\n",
            "13    1\n",
            "14    2\n",
            "15    2\n",
            "16    2\n",
            "17    2\n",
            "18    2\n",
            "19    2\n",
            "20    3\n",
            "21    3\n",
            "22    3\n",
            "23    4\n",
            "24    4\n",
            "25    4\n",
            "26    4\n",
            "27    4\n",
            "28    4\n",
            "29    4\n",
            "Name: labels, dtype: int64\n"
          ],
          "name": "stdout"
        }
      ]
    },
    {
      "cell_type": "code",
      "metadata": {
        "id": "372xmpG9IMu0",
        "colab": {
          "base_uri": "https://localhost:8080/"
        },
        "outputId": "e24bf95e-c7aa-4c4c-b69e-536c4e437094"
      },
      "source": [
        "from sklearn.metrics import classification_report,confusion_matrix\n",
        "conf_mat=confusion_matrix(y_true,answer)\n",
        "\n",
        "print(conf_mat)\n"
      ],
      "execution_count": 27,
      "outputs": [
        {
          "output_type": "stream",
          "text": [
            "[[1 1 0 2 0]\n",
            " [1 5 3 0 1]\n",
            " [1 0 4 0 1]\n",
            " [0 0 0 3 0]\n",
            " [0 0 0 0 7]]\n"
          ],
          "name": "stdout"
        }
      ]
    },
    {
      "cell_type": "code",
      "metadata": {
        "id": "hUYfOn7xKQNW",
        "colab": {
          "base_uri": "https://localhost:8080/",
          "height": 286
        },
        "outputId": "36a252d0-acb9-4a92-ba7b-c976c63e750e"
      },
      "source": [
        "sns.heatmap(conf_mat)\n"
      ],
      "execution_count": 28,
      "outputs": [
        {
          "output_type": "execute_result",
          "data": {
            "text/plain": [
              "<matplotlib.axes._subplots.AxesSubplot at 0x7f65785e9390>"
            ]
          },
          "metadata": {
            "tags": []
          },
          "execution_count": 28
        },
        {
          "output_type": "display_data",
          "data": {
            "image/png": "[encoded data removed]",
            "text/plain": [
              "<Figure size 432x288 with 2 Axes>"
            ]
          },
          "metadata": {
            "tags": [],
            "needs_background": "light"
          }
        }
      ]
    },
    {
      "cell_type": "code",
      "metadata": {
        "id": "yGiot3QNVyDJ"
      },
      "source": [
        "import pickle \n",
        "if not os.path.isdir('models'):\n",
        "    os.mkdir('models')\n",
        "\n",
        "model.save('models/basic.h5')\n",
        "\n"
      ],
      "execution_count": 33,
      "outputs": []
    },
    {
      "cell_type": "code",
      "metadata": {
        "id": "ApSRWeac_3pF"
      },
      "source": [
        ""
      ],
      "execution_count": null,
      "outputs": []
    }
  ]
}